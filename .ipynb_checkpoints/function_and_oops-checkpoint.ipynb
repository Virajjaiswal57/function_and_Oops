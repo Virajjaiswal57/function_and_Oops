{
 "cells": [
  {
   "cell_type": "code",
   "execution_count": null,
   "id": "ac6b9c3b-6450-489c-954d-1abd200a9bdf",
   "metadata": {},
   "outputs": [],
   "source": [
    "# 1. Explain the importance of Functions.\n",
    "\n",
    "'''\n",
    "Ans ->\n",
    "important of function:\n",
    "it is a block of code that performs same specific computatuons\n",
    "it keeps your code neat and clean, organise, reusable\n",
    "'''"
   ]
  },
  {
   "cell_type": "code",
   "execution_count": 2,
   "id": "918d2451-de48-46aa-8b44-3fa803aecf6e",
   "metadata": {},
   "outputs": [],
   "source": [
    "# 2.  Write a basic function to greet students.\n",
    "\n",
    "def greet_student(name):\n",
    "    print(\"This is a greet student \" + name)"
   ]
  },
  {
   "cell_type": "code",
   "execution_count": 3,
   "id": "4a541720-5e49-4ff2-966e-4c9e5d981fa9",
   "metadata": {},
   "outputs": [
    {
     "name": "stdout",
     "output_type": "stream",
     "text": [
      "This is a greet student viraj\n"
     ]
    }
   ],
   "source": [
    "greet_student(\"viraj\")"
   ]
  },
  {
   "cell_type": "code",
   "execution_count": null,
   "id": "0255ed4c-a439-4794-af4d-ca14e2a924b5",
   "metadata": {},
   "outputs": [],
   "source": [
    "# 3. What is the difference between print and return statements?\n",
    "\n",
    "'''\n",
    "Ans ->\n",
    "The output will be the same but \n",
    "'return' statement output use again but \n",
    "'print' is not use again\n",
    "'''"
   ]
  },
  {
   "cell_type": "code",
   "execution_count": null,
   "id": "b95ce454-23b0-4e0e-9b05-e523862028af",
   "metadata": {},
   "outputs": [],
   "source": [
    "# 4. What are *args and **kwargs?\n",
    "\n",
    "'''\n",
    "Ans->\n",
    "The args stands for arguments that are passed to the function whereas kwargs stands for keyword arguments which are passed along with the values into the function.\n",
    "'''"
   ]
  },
  {
   "cell_type": "code",
   "execution_count": null,
   "id": "6a416f45-ef76-4580-bbc0-d512b84b87f1",
   "metadata": {},
   "outputs": [],
   "source": [
    "# 5. Ecplain the iterator function.\n",
    "\n",
    "'''\n",
    "Ans ->\n",
    " iterator function:\n",
    " is an object that is used to iterate aver iterable objects\n",
    " ex -> list, tuple, string, sets \n",
    "'''"
   ]
  },
  {
   "cell_type": "code",
   "execution_count": 7,
   "id": "f1847e10-92db-466d-9a00-54395030327a",
   "metadata": {},
   "outputs": [],
   "source": [
    "# 6.  Write a code that generates the squares of numbers from 1 to n using a generator.\n",
    "\n",
    "def square(n):\n",
    "    result = []\n",
    "    for i in range(n + 1):\n",
    "        result.append(i**2)\n",
    "    return result\n",
    "\n",
    "    "
   ]
  },
  {
   "cell_type": "code",
   "execution_count": 8,
   "id": "eb3b2a92-a5c6-4b25-ba32-68c340fc0ef7",
   "metadata": {},
   "outputs": [
    {
     "data": {
      "text/plain": [
       "[0, 1, 4, 9, 16]"
      ]
     },
     "execution_count": 8,
     "metadata": {},
     "output_type": "execute_result"
    }
   ],
   "source": [
    "square(4)"
   ]
  },
  {
   "cell_type": "code",
   "execution_count": 2,
   "id": "ee32abf1-9d91-490e-a6cc-0d3f60d0f589",
   "metadata": {},
   "outputs": [
    {
     "name": "stdout",
     "output_type": "stream",
     "text": [
      "1\n",
      "2\n",
      "3\n",
      "4\n",
      "5\n",
      "6\n",
      "7\n",
      "8\n",
      "9\n",
      "11\n"
     ]
    }
   ],
   "source": [
    "# 7.  Write a code that generates palindromic numbers up to n using a generator.\n",
    "\n",
    "def is_palindrome(num):\n",
    "    return str(num) == str(num)[::-1]\n",
    "\n",
    "def palindromic_numbers(n):\n",
    "    for i in range(1, n + 1):\n",
    "        if is_palindrome(i):\n",
    "            yield i\n",
    "\n",
    "# Example usage:\n",
    "n = 20\n",
    "for palindrome in palindromic_numbers(n):\n",
    "    print(palindrome)\n"
   ]
  },
  {
   "cell_type": "code",
   "execution_count": 12,
   "id": "705a3ca3-509e-4a1b-84d8-299f1b74a31b",
   "metadata": {},
   "outputs": [],
   "source": [
    "# 8.  Write a code that generates even numbers from 2 to n using a generator.\n",
    "\n",
    "def even_no(n):\n",
    "    lis = []\n",
    "    for i in range(2, n + 1):\n",
    "        if i%2 == 0:\n",
    "            lis.append(i)\n",
    "    return lis\n",
    "    "
   ]
  },
  {
   "cell_type": "code",
   "execution_count": 13,
   "id": "999b98d0-716b-410d-af70-d01f3fe23865",
   "metadata": {},
   "outputs": [
    {
     "data": {
      "text/plain": [
       "[2, 4, 6, 8, 10]"
      ]
     },
     "execution_count": 13,
     "metadata": {},
     "output_type": "execute_result"
    }
   ],
   "source": [
    "even_no(10)"
   ]
  },
  {
   "cell_type": "code",
   "execution_count": 14,
   "id": "026fc7f1-42d0-4fee-b71b-4a5471fd03e9",
   "metadata": {},
   "outputs": [],
   "source": [
    "# 9.  Write a code that generates powers of two up to n using a generator.\n",
    "\n",
    "\n",
    "# this code print 2 to n not include 0 and 1\n",
    "def power(n):\n",
    "    lis = []\n",
    "    for i in range(2 , n+1):\n",
    "        lis.append(i**2)\n",
    "    return(lis)"
   ]
  },
  {
   "cell_type": "code",
   "execution_count": 15,
   "id": "01be0cf0-58b3-4c8a-905b-5f278f1a3b1d",
   "metadata": {},
   "outputs": [
    {
     "data": {
      "text/plain": [
       "[4, 9, 16, 25]"
      ]
     },
     "execution_count": 15,
     "metadata": {},
     "output_type": "execute_result"
    }
   ],
   "source": [
    "power(5)"
   ]
  },
  {
   "cell_type": "code",
   "execution_count": 3,
   "id": "5226d9e6-c584-48f4-a161-9847537ea6c7",
   "metadata": {},
   "outputs": [
    {
     "name": "stdout",
     "output_type": "stream",
     "text": [
      "2\n",
      "3\n",
      "5\n",
      "7\n",
      "11\n",
      "13\n",
      "17\n",
      "19\n",
      "23\n",
      "29\n",
      "31\n",
      "37\n",
      "41\n",
      "43\n",
      "47\n"
     ]
    }
   ],
   "source": [
    "# 10.  Write a code that generates prime numbers up to n using a generator.\n",
    "\n",
    "def is_prime(num):\n",
    "    if num < 2:\n",
    "        return False\n",
    "    for i in range(2, int(num**0.5) + 1):\n",
    "        if num % i == 0:\n",
    "            return False\n",
    "    return True\n",
    "\n",
    "def prime_numbers(n):\n",
    "    for i in range(2, n + 1):\n",
    "        if is_prime(i):\n",
    "            yield i\n",
    "\n",
    "\n",
    "n = 50\n",
    "for prime in prime_numbers(n):\n",
    "    print(prime)\n"
   ]
  },
  {
   "cell_type": "code",
   "execution_count": 11,
   "id": "c19435a7-6f46-4985-bcc8-2365f040e37d",
   "metadata": {},
   "outputs": [
    {
     "name": "stdout",
     "output_type": "stream",
     "text": [
      "The sum is: 11\n"
     ]
    }
   ],
   "source": [
    "# 11.  Write a code that uses a lambda function to calculate the sum of two numbers.\n",
    "\n",
    "sum_numbers = lambda x, y: x + y\n",
    "\n",
    "result = sum_numbers(8, 3)\n",
    "print(\"The sum is:\", result)"
   ]
  },
  {
   "cell_type": "code",
   "execution_count": 23,
   "id": "a88c4902-29b6-48ed-8a52-31085e65f838",
   "metadata": {},
   "outputs": [
    {
     "name": "stdout",
     "output_type": "stream",
     "text": [
      "The square is:  25\n"
     ]
    }
   ],
   "source": [
    "# 12.  Write a code that uses a lambda function to calculate the square of a given number.\n",
    "\n",
    "square_no = lambda x: x**2\n",
    "\n",
    "result = square_no(5)\n",
    "print(\"The square is: \", result)"
   ]
  },
  {
   "cell_type": "code",
   "execution_count": 90,
   "id": "7a39ace2-3051-4e95-af6f-2e204c004363",
   "metadata": {},
   "outputs": [
    {
     "name": "stdout",
     "output_type": "stream",
     "text": [
      "12 is even: True\n",
      "12 is odd: False\n"
     ]
    }
   ],
   "source": [
    "# 13.  Write a code that uses a lambda function to check whether a given number is even or odd.\n",
    "\n",
    "is_even = lambda x: x % 2 == 0\n",
    "\n",
    "is_odd = lambda x: x % 2 != 0\n",
    "\n",
    "number = 12\n",
    "\n",
    "print(f\"{number} is even: {is_even(number)}\")  \n",
    "print(f\"{number} is odd: {is_odd(number)}\")   "
   ]
  },
  {
   "cell_type": "markdown",
   "id": "858043ec-4154-40c2-97a3-0b2b45b4c0d2",
   "metadata": {},
   "source": [
    "# 14. Question not given assingnment typing mistake"
   ]
  },
  {
   "cell_type": "code",
   "execution_count": 27,
   "id": "37a41b4f-70db-4cfc-929a-0a9499477f02",
   "metadata": {},
   "outputs": [
    {
     "name": "stdout",
     "output_type": "stream",
     "text": [
      "HelloWorld!\n"
     ]
    }
   ],
   "source": [
    "# 15.  Write a code that uses a lambda function to concatenate two strings.\n",
    "\n",
    "concat_strings = lambda str1, str2: str1 + str2\n",
    "\n",
    "result = concat_strings(\"Hello\", \"World!\")\n",
    "\n",
    "print(result)  "
   ]
  },
  {
   "cell_type": "code",
   "execution_count": 28,
   "id": "f836bb19-95ef-4fde-9421-0cba71d74a7e",
   "metadata": {},
   "outputs": [],
   "source": [
    "# 16.  Write a code that uses a lambda function to find the maximum of three given numbers.\n",
    "\n",
    "max_no = lambda no1, no2, no3: max(no1, no2, no3)"
   ]
  },
  {
   "cell_type": "code",
   "execution_count": 29,
   "id": "df65f851-3acb-4b7d-abfd-bf0755e55d3d",
   "metadata": {},
   "outputs": [
    {
     "data": {
      "text/plain": [
       "84"
      ]
     },
     "execution_count": 29,
     "metadata": {},
     "output_type": "execute_result"
    }
   ],
   "source": [
    "max_no(45, 84, 26)"
   ]
  },
  {
   "cell_type": "code",
   "execution_count": 30,
   "id": "2a478a79-740b-4cda-b257-71e31c245c10",
   "metadata": {},
   "outputs": [
    {
     "name": "stdout",
     "output_type": "stream",
     "text": [
      "4\n",
      "16\n",
      "36\n",
      "64\n"
     ]
    }
   ],
   "source": [
    "# 17. Write a code that generates the squares of even numbers from a given list.\n",
    "\n",
    "lis = [1, 2, 3, 4, 5, 6, 7, 8, 9]\n",
    "\n",
    "for i in lis:\n",
    "    if i%2 == 0:\n",
    "        print(i**2)"
   ]
  },
  {
   "cell_type": "code",
   "execution_count": 70,
   "id": "711956f2-d098-4c7a-b236-6b4a482e1ab8",
   "metadata": {},
   "outputs": [
    {
     "name": "stdout",
     "output_type": "stream",
     "text": [
      "72\n"
     ]
    }
   ],
   "source": [
    "# 18.  Write a code that calculates the product of positive numbers from a given list.\n",
    "\n",
    "from functools import reduce\n",
    "import operator\n",
    "\n",
    "numbers = [1, -2, 3, 4, -5, 6]\n",
    "\n",
    "positive_numbers = [x for x in numbers if x > 0]\n",
    "\n",
    "product_of_positives = reduce(operator.mul, positive_numbers, 1)\n",
    "\n",
    "print(product_of_positives) "
   ]
  },
  {
   "cell_type": "code",
   "execution_count": 67,
   "id": "53e7906f-9754-4d51-99c8-45a36c53b4d1",
   "metadata": {},
   "outputs": [
    {
     "name": "stdout",
     "output_type": "stream",
     "text": [
      "2\n",
      "6\n",
      "10\n",
      "14\n",
      "18\n",
      "22\n",
      "30\n"
     ]
    }
   ],
   "source": [
    "# 19. Write a code that doubles the values of odd numbers from a given list\n",
    "\n",
    "lis = [1, 2, 3, 4, 5, 6, 7, 8, 9, 11, 15]\n",
    "\n",
    "for i in lis:\n",
    "    if i%2 != 0:\n",
    "        print(i*2)"
   ]
  },
  {
   "cell_type": "code",
   "execution_count": 68,
   "id": "6122e219-b4ef-4365-bb9a-9ef73b9509df",
   "metadata": {},
   "outputs": [
    {
     "name": "stdout",
     "output_type": "stream",
     "text": [
      "225\n"
     ]
    }
   ],
   "source": [
    "# 20. Write a code that calculates the sum of cubes of numbers from a given list.\n",
    "\n",
    "lis1 = [1, 2, 3, 4, 5]\n",
    "result = []\n",
    "\n",
    "for i in lis1:\n",
    "    result.append(i**3)\n",
    "    \n",
    "print(sum(result))"
   ]
  },
  {
   "cell_type": "code",
   "execution_count": 75,
   "id": "971cde02-bf7e-4013-9fcf-53f8fd5ea361",
   "metadata": {},
   "outputs": [
    {
     "name": "stdout",
     "output_type": "stream",
     "text": [
      "[2, 3, 5, 7]\n"
     ]
    }
   ],
   "source": [
    "# 21.  Write a code that filters out prime numbers from a given list.\n",
    "\n",
    "def is_prime(n):\n",
    "    if n <= 1:\n",
    "        return False\n",
    "    if n <= 3:\n",
    "        return True\n",
    "    if n % 2 == 0 or n % 3 == 0:\n",
    "        return False\n",
    "    i = 5\n",
    "    while i * i <= n:\n",
    "        if n % i == 0 or n % (i + 2) == 0:\n",
    "            return False\n",
    "        i += 6\n",
    "    return True\n",
    "\n",
    "numbers = [1, 2, 3, 4, 5, 6, 7, 8, 9, 10]\n",
    "\n",
    "prime_number = []\n",
    "\n",
    "for i in numbers:\n",
    "    if is_prime(i):    \n",
    "        prime_number.append(i)\n",
    "        \n",
    "print(prime_number)\n"
   ]
  },
  {
   "cell_type": "code",
   "execution_count": 77,
   "id": "b523e7da-6aa3-4d28-8254-9d0bd14722c5",
   "metadata": {},
   "outputs": [
    {
     "name": "stdout",
     "output_type": "stream",
     "text": [
      "The square is:  39\n"
     ]
    }
   ],
   "source": [
    "# 22. Write a code that uses a lambda function to calculate the sum of two numbers.\n",
    "\n",
    "sum_of_number = lambda x, y: x+y\n",
    "\n",
    "result = sum_of_number(23, 16)\n",
    "print(\"The square is: \", result)"
   ]
  },
  {
   "cell_type": "code",
   "execution_count": 79,
   "id": "3e667021-1dea-4409-b920-eb9e3d958fe8",
   "metadata": {},
   "outputs": [
    {
     "name": "stdout",
     "output_type": "stream",
     "text": [
      "The square is:  49\n"
     ]
    }
   ],
   "source": [
    "# 23.  Write a code that uses a lambda function to calculate the square of a given number.\n",
    "\n",
    "square_no = lambda x: x**2\n",
    "\n",
    "result = square_no(7)\n",
    "print(\"The square is: \", result)"
   ]
  },
  {
   "cell_type": "code",
   "execution_count": 82,
   "id": "beb0781f-75e4-45fa-b967-72a231b40ba3",
   "metadata": {},
   "outputs": [
    {
     "name": "stdout",
     "output_type": "stream",
     "text": [
      "7 is even: False\n",
      "7 is odd: True\n"
     ]
    }
   ],
   "source": [
    "# 24.  Write a code that uses a lambda function to check whether a given number is even or odd.\n",
    "\n",
    "is_even = lambda x: x % 2 == 0\n",
    "\n",
    "is_odd = lambda x: x % 2 != 0\n",
    "\n",
    "number = 7\n",
    "\n",
    "print(f\"{number} is even: {is_even(number)}\")  \n",
    "print(f\"{number} is odd: {is_odd(number)}\")   "
   ]
  },
  {
   "cell_type": "code",
   "execution_count": 92,
   "id": "1096ae93-9ee7-46f0-ae92-e974f6a2bd6b",
   "metadata": {},
   "outputs": [
    {
     "name": "stdout",
     "output_type": "stream",
     "text": [
      "Viraj Jaiswal\n"
     ]
    }
   ],
   "source": [
    "# 25.  Write a code that uses a lambda function to concatenate two strings.\n",
    "\n",
    "concatenate_str = lambda str1, str2 : str1 + str2\n",
    "\n",
    "result = concatenate_str(\"Viraj \", \"Jaiswal\")\n",
    "print(result)"
   ]
  },
  {
   "cell_type": "code",
   "execution_count": 94,
   "id": "cf06d2a9-521a-46a5-9694-9d6316d7d4af",
   "metadata": {},
   "outputs": [
    {
     "name": "stdout",
     "output_type": "stream",
     "text": [
      "8\n"
     ]
    }
   ],
   "source": [
    "# 26.  Write a code that uses a lambda function to find the maximum of three given numbers.\n",
    "\n",
    "max_no = lambda no1, no2, no3: max(no1, no2, no3)\n",
    "\n",
    "result = max_no(4, 8, 6)\n",
    "print(result)"
   ]
  },
  {
   "cell_type": "code",
   "execution_count": null,
   "id": "dd8d20cd-9df0-43e5-90f5-5651d86c9adf",
   "metadata": {},
   "outputs": [],
   "source": [
    "# 27. What is encapsulation in OOP?\n",
    "\n",
    "'''\n",
    "Ans ->\n",
    "In object-oriented computer programming (OOP) languages, the notion of encapsulation (or OOP Encapsulation) refers to the bundling of data, along with the methods that operate on that data, into a single unit.\n",
    "'''"
   ]
  },
  {
   "cell_type": "code",
   "execution_count": null,
   "id": "2f015f32-1ff4-4fc9-8705-8454a1e65125",
   "metadata": {},
   "outputs": [],
   "source": [
    "# 28. Explain the use of access modifiers in Python classes.\n",
    "\n",
    "'''\n",
    "Ans ->\n",
    "Access modifiers are used by object oriented programming languages like C++,java,python etc. to restrict the access of the class member variable and methods from outside the class. Encapsulation is an OOPs principle which protects the internal data of the class using Access modifiers like Public,Private and Protected.\n",
    "'''"
   ]
  },
  {
   "cell_type": "code",
   "execution_count": null,
   "id": "9ce9de39-80ff-4fba-ac36-0d669b7baed6",
   "metadata": {},
   "outputs": [],
   "source": [
    "# 29. What is inheritance in OOP?\n",
    "\n",
    "'''\n",
    "Ans ->\n",
    "Refers to process of child class class recieveing the properties of parent class\n",
    "'''"
   ]
  },
  {
   "cell_type": "code",
   "execution_count": null,
   "id": "590e6679-e7d8-4f9a-bbda-845c14e7838a",
   "metadata": {},
   "outputs": [],
   "source": [
    "# 30. Define polymorphism in OOP.\n",
    "\n",
    "'''\n",
    "Ans ->\n",
    "Polymorphism is one of the most important concepts in OOP. It describes the ability of something to have or to be displayed in more than one form.\n",
    "'''"
   ]
  },
  {
   "cell_type": "code",
   "execution_count": null,
   "id": "1c1630bf-05be-4076-bb1c-5b0351ce0d6d",
   "metadata": {},
   "outputs": [],
   "source": [
    "# 31. Explain method overriding in Python.\n",
    "\n",
    "'''\n",
    "Ans ->\n",
    "Method in parent class and child class with same signature, than the child class method will be executed.\n",
    "'''"
   ]
  },
  {
   "cell_type": "code",
   "execution_count": 13,
   "id": "96cabba1-8b9b-4ea4-b86a-777fc46313de",
   "metadata": {},
   "outputs": [
    {
     "name": "stdout",
     "output_type": "stream",
     "text": [
      "Generic animal sound\n",
      "Woof!\n"
     ]
    }
   ],
   "source": [
    "# 32.  Define a parent class Animal with a method make_sound that prints \"Generic animal sound\". Create a child class Dog inheriting from Animal with a method make_sound that prints \"Woof!\".\n",
    "\n",
    "# Parent class\n",
    "class Animal:\n",
    "    def make_sound(self):\n",
    "        print(\"Generic animal sound\")\n",
    "\n",
    "# Child class inheriting from Animal\n",
    "class Dog(Animal):\n",
    "    def make_sound(self):\n",
    "        print(\"Woof!\")\n",
    "\n",
    "generic_animal = Animal()\n",
    "generic_animal.make_sound()  \n",
    "\n",
    "dog = Dog()\n",
    "dog.make_sound()  "
   ]
  },
  {
   "cell_type": "code",
   "execution_count": 15,
   "id": "62d67a4d-8162-4c8b-b6f7-45eea1f189cc",
   "metadata": {},
   "outputs": [
    {
     "name": "stdout",
     "output_type": "stream",
     "text": [
      "Dog runs\n"
     ]
    }
   ],
   "source": [
    "# 33. Define a method move in the Animal class that prints \"Animal moves\". Override the move method in the Dog class to print \"Dog runs\".\n",
    "\n",
    "class Animal:\n",
    "    def moves(self):\n",
    "        print(\"Animal moves\") #override the Animal sound\n",
    "class Dog(Animal):\n",
    "    def moves(self):\n",
    "        print(\"Dog runs\")\n",
    "        \n",
    "dog = Dog()\n",
    "dog.moves()\n"
   ]
  },
  {
   "cell_type": "code",
   "execution_count": 17,
   "id": "e2e3412d-283c-4195-9e2c-5a6b93b8e0f0",
   "metadata": {},
   "outputs": [
    {
     "name": "stdout",
     "output_type": "stream",
     "text": [
      "Dog moves\n",
      "Giving birth to live young.\n"
     ]
    }
   ],
   "source": [
    "# 34.  Create a class Mammal with a method reproduce that prints \"Giving birth to live young.\" Create a class DogMammal inheriting from both Dog and Mammal.\n",
    "class Dog:\n",
    "    def moves(self):\n",
    "        print(\"Dog moves\")\n",
    "        \n",
    "class Mammal:\n",
    "    def reproduce(self):\n",
    "        print(\"Giving birth to live young.\")\n",
    "        \n",
    "class DogMammal(Dog, Mammal):\n",
    "    pass\n",
    "\n",
    "dog = DogMammal()\n",
    "dog.moves()\n",
    "dog.reproduce()"
   ]
  },
  {
   "cell_type": "code",
   "execution_count": 18,
   "id": "22ab81b5-c597-46f3-80e6-24a40cff3ae0",
   "metadata": {},
   "outputs": [
    {
     "name": "stdout",
     "output_type": "stream",
     "text": [
      "Bark!\n"
     ]
    }
   ],
   "source": [
    "# 35.  Create a class GermanShepherd inheriting from Dog and override the make_sound method to print \"Bark!\"\n",
    "\n",
    "#perents class \n",
    "class Dog:\n",
    "    def make_sound(self):\n",
    "        print(\"Dog Sound\")\n",
    "    \n",
    "#child class that oveerrides the method   \n",
    "class GermanShepherd(Dog):\n",
    "    def make_sound(self):\n",
    "        print(\"Bark!\")\n",
    "    \n",
    "german_shepherd = GermanShepherd()\n",
    "german_shepherd.make_sound()"
   ]
  },
  {
   "cell_type": "code",
   "execution_count": 28,
   "id": "87024b8f-4e17-49ae-9876-fda11978fc1d",
   "metadata": {},
   "outputs": [
    {
     "name": "stdout",
     "output_type": "stream",
     "text": [
      "Animal constructor: Species is Mammal\n",
      "Animal constructor: Species is Mammal\n",
      "Dog constructor: Breed is Golden Retriever\n"
     ]
    }
   ],
   "source": [
    "# 36.  Define constructors in both the Animal and Dog classes with different initialization parameters.\n",
    "\n",
    "# Parent class Animal\n",
    "class Animal:\n",
    "    def __init__(self, species):\n",
    "        self.species = species\n",
    "        print(f\"Animal constructor: Species is {self.species}\")\n",
    "    \n",
    "    def make_sound(self):\n",
    "        print(\"Generic animal sound\")\n",
    "    \n",
    "    def move(self):\n",
    "        print(\"Animal moves\")\n",
    "\n",
    "# Child class Dog inheriting from Animal\n",
    "class Dog(Animal):\n",
    "    def __init__(self, species, breed):\n",
    "        # Call the constructor of the parent class (Animal)\n",
    "        super().__init__(species)\n",
    "        self.breed = breed\n",
    "        print(f\"Dog constructor: Breed is {self.breed}\")\n",
    "    \n",
    "    def make_sound(self):\n",
    "        print(\"Woof!\")\n",
    "    \n",
    "    def move(self):\n",
    "        print(\"Dog runs\")\n",
    "\n",
    "generic_animal = Animal(\"Mammal\")  \n",
    "\n",
    "dog = Dog(\"Mammal\", \"Golden Retriever\")  \n"
   ]
  },
  {
   "cell_type": "code",
   "execution_count": null,
   "id": "f2ff448f-741f-4f15-baac-a1e2a1c92c11",
   "metadata": {},
   "outputs": [],
   "source": [
    "# 37. What is abstraction in Python? How is it implemented?\n",
    "\n",
    "'''\n",
    "Ans ->\n",
    "Abstraction is a fundamental concept in Python programming that allows us to simplify complex concepts and focus on the essential details. It involves hiding unnecessary details and exposing only the relevant information to the users.\n",
    "\n",
    "Abstraction is Implemented in Python:\n",
    "Abstraction is typically implemented using abstract classes and methods. Python provides a module called abc (Abstract Base Class) to create abstract classes and methods.\n",
    "'''"
   ]
  },
  {
   "cell_type": "code",
   "execution_count": null,
   "id": "fae02c02-98e5-4ef3-b91e-4ace52f027ac",
   "metadata": {},
   "outputs": [],
   "source": [
    "# 38. Explain the importance of abstraction in object-oriented programming.\n",
    "\n",
    "'''\n",
    "Ans ->\n",
    "straction, in the context of OOP, refers to the ability to hide complex implementation details and show only the necessary features of an object. This simplifies the interaction with objects, making programming more intuitive and efficient.\n",
    "'''"
   ]
  },
  {
   "cell_type": "code",
   "execution_count": null,
   "id": "a552d6e2-d56f-478a-b15b-1fa990634c81",
   "metadata": {},
   "outputs": [],
   "source": [
    "# 39. How are abstract methods different from regular methods in Python?\n",
    "\n",
    "'''\n",
    "Ans ->\n",
    "Saying that something is abstract means the implementation will be provided by a subclass. If a regular class had an abstract method, it would then need a subclass to implement that method and so could not be instantiated without one, which by definition means it is no longer a regular class.\n",
    "'''"
   ]
  },
  {
   "cell_type": "code",
   "execution_count": null,
   "id": "ae6bfc66-29c0-4c91-b68d-4c5fb77b98a5",
   "metadata": {},
   "outputs": [],
   "source": [
    "# 40. How can you achieve abstraction using interfaces in Python ?\n",
    "\n",
    "'''\n",
    "Ans -> \n",
    "Abstraction in Python is achieved using abstract classes or interfaces provided by the \"abc\" module. Abstract classes define a common interface for their subclasses, while interfaces define a set of methods that must be implemented by classes that implement the interface.\n",
    "'''"
   ]
  },
  {
   "cell_type": "code",
   "execution_count": 26,
   "id": "b78efeff-de19-4d99-89bb-942e6d1b8993",
   "metadata": {},
   "outputs": [
    {
     "data": {
      "text/plain": [
       "'Area of rectangle : length * breadth'"
      ]
     },
     "execution_count": 26,
     "metadata": {},
     "output_type": "execute_result"
    }
   ],
   "source": [
    "# 41.  Can you provide an example of how abstraction can be utilized to create a common interface for a group of related classes in Python?\n",
    "import abc\n",
    "\n",
    "class Shape:\n",
    "    \n",
    "    @abc.abstractmethod\n",
    "    def calculate_area(self):\n",
    "        pass\n",
    "    \n",
    "class Rectange(Shape):\n",
    "    def calculate_area(self):\n",
    "        return \"Area of rectangle : length * breadth\"\n",
    "    \n",
    "class Circle(Shape):\n",
    "    def calculate_area(self):\n",
    "        return \"Area of circle : pi r**2\"\n",
    "    \n",
    "ract = Rectange()\n",
    "ract.calculate_area()\n"
   ]
  },
  {
   "cell_type": "code",
   "execution_count": null,
   "id": "44277a03-fb94-4c26-b53d-79bc7c59363e",
   "metadata": {},
   "outputs": [],
   "source": [
    "# 42.  How does Python achieve polymorphism through method overriding?\n",
    "\n",
    "'''\n",
    "Ans ->\n",
    "You can achieve Runtime polymorphism via Method Overriding. Method Overriding is done when a child or a subclass has a method with the same name, parameters, and return type as the parent or the superclass; then that function overrides the function in the superclass.\n",
    "'''"
   ]
  },
  {
   "cell_type": "code",
   "execution_count": 29,
   "id": "8bd11b37-18de-46ef-8c79-3869b5c4d6a7",
   "metadata": {},
   "outputs": [
    {
     "name": "stdout",
     "output_type": "stream",
     "text": [
      "Tata Moters Engine\n"
     ]
    }
   ],
   "source": [
    "# 43. Define a base class with a method and a subclass that overrides the method.\n",
    "\n",
    "# Base Class\n",
    "class Car:\n",
    "    def engine(self):\n",
    "        print(\"Car Engine\")\n",
    "        \n",
    "# Subclass that overrides the method        \n",
    "class Tata:\n",
    "    def engine(self):\n",
    "        print(\"Tata Moters Engine\")\n",
    "        \n",
    "tata_car = Tata()\n",
    "tata_car.engine()\n"
   ]
  },
  {
   "cell_type": "code",
   "execution_count": 34,
   "id": "2c96366a-6673-4b81-add1-6e860c0f5b52",
   "metadata": {},
   "outputs": [
    {
     "name": "stdout",
     "output_type": "stream",
     "text": [
      "This Homework is submitted by Student1\n",
      "This Homework is submitted by Student2\n",
      "This Homework is submitted by Student3\n"
     ]
    }
   ],
   "source": [
    "# 44. Define a base class and multiple subclasses with overridden methods.\n",
    "\n",
    "# Base Class\n",
    "class Teacher:\n",
    "    def Homework(self):\n",
    "        print(\"This Homework is submitted by Teacher\")\n",
    "        \n",
    "# Subclass\n",
    "class Student1(Teacher):\n",
    "    def Homework(self):\n",
    "        print(\"This Homework is submitted by Student1\")\n",
    "        \n",
    "class Student2(Teacher):\n",
    "    def Homework(self):\n",
    "        print(\"This Homework is submitted by Student2\")\n",
    "    \n",
    "class Student3(Teacher):\n",
    "    def Homework(self):\n",
    "        print(\"This Homework is submitted by Student3\")\n",
    "        \n",
    "students = [Student1(), Student2(), Student3()]\n",
    "\n",
    "for student in students:\n",
    "    student.Homework()"
   ]
  },
  {
   "cell_type": "code",
   "execution_count": null,
   "id": "bff5cffa-35e5-42c1-b980-0559d90fddb9",
   "metadata": {},
   "outputs": [],
   "source": [
    "# 45. How does polymorphism improve code readability and reusability?\n",
    "\n",
    "'''\n",
    "Ans ->\n",
    "Polymorphism is a concept in object-oriented programming that allows objects of different types to be treated as objects of a common superclass. It enables code reusability and flexibility by allowing multiple classes to implement the same method in different ways.\n",
    "'''"
   ]
  },
  {
   "cell_type": "code",
   "execution_count": null,
   "id": "39d6dc11-c68c-4b30-89a0-0b72530da9f7",
   "metadata": {},
   "outputs": [],
   "source": [
    "# 46.  Describe how Python supports polymorphism with duck typing.\n",
    "\n",
    "'''\n",
    "Ans ->\n",
    "Duck typing is a type system where an object is considered compatible with a given type if it has all the methods and attributes that the type requires. This type system supports the ability to use objects of independent and decoupled classes in a specific context as long as they adhere to some common interface.\n",
    "'''"
   ]
  },
  {
   "cell_type": "code",
   "execution_count": null,
   "id": "000bd164-3b4d-4732-aff9-9d87ac2496e4",
   "metadata": {},
   "outputs": [],
   "source": [
    "# 47. How do you achieve encapsulation in Python?\n",
    "\n",
    "'''\n",
    "Ans ->\n",
    "Encapsulation is achieved by declaring a class's data members and methods as either private or protected. But in Python, we do not have keywords like public, private, and protected, as in the case of Java. Instead, we achieve this by using single and double underscores.\n",
    "'''"
   ]
  },
  {
   "cell_type": "code",
   "execution_count": null,
   "id": "9b3d95bb-088b-4197-8330-23baef2a97ac",
   "metadata": {},
   "outputs": [],
   "source": [
    "# 48. Can encapsulation be bypassed in Python? If so, how? \n",
    "\n",
    "'''\n",
    "Encapsulation is achieved by declaring a class's data members and methods as either private or protected. But in Python, we do not have keywords like public, private, and protected, as in the case of Java.\n",
    "Instead, we achieve this by using single and double underscores.'''"
   ]
  },
  {
   "cell_type": "code",
   "execution_count": 53,
   "id": "4934409c-111e-4866-bf59-24c9d912d397",
   "metadata": {},
   "outputs": [],
   "source": [
    "# 49. Implement a class BankAccount with a private balance attribute. Include methods to deposit, withdraw, and check the balance.\n",
    "\n",
    "class Bank:\n",
    "    def __init__(self, balance):\n",
    "        self.__balance = balance\n",
    "    def deposit(self, amount):\n",
    "        self.__balance = self.__balance + amount\n",
    "    def withdraw(self, amount):\n",
    "        if self.__balance >= amount:\n",
    "            self.__balance = self.__balance - amount\n",
    "            return True\n",
    "        else:\n",
    "            return False\n",
    "        \n",
    "    def get_balance(self):\n",
    "        return self.__balance\n",
    "\n"
   ]
  },
  {
   "cell_type": "code",
   "execution_count": 54,
   "id": "1746f7c6-1cfc-4f6e-ab34-6e0098ee96aa",
   "metadata": {},
   "outputs": [
    {
     "data": {
      "text/plain": [
       "1000"
      ]
     },
     "execution_count": 54,
     "metadata": {},
     "output_type": "execute_result"
    }
   ],
   "source": [
    "acc = Bank(1000)\n",
    "acc.get_balance()"
   ]
  },
  {
   "cell_type": "code",
   "execution_count": 55,
   "id": "13c4c7cc-8cc9-43e1-a1c6-f777b8410f54",
   "metadata": {},
   "outputs": [
    {
     "data": {
      "text/plain": [
       "11000"
      ]
     },
     "execution_count": 55,
     "metadata": {},
     "output_type": "execute_result"
    }
   ],
   "source": [
    "acc.deposit(10000)\n",
    "acc.get_balance()"
   ]
  },
  {
   "cell_type": "code",
   "execution_count": 56,
   "id": "315f80de-f244-4dac-8fa0-5e6c7ee38ec9",
   "metadata": {},
   "outputs": [
    {
     "data": {
      "text/plain": [
       "True"
      ]
     },
     "execution_count": 56,
     "metadata": {},
     "output_type": "execute_result"
    }
   ],
   "source": [
    "acc.withdraw(10500)"
   ]
  },
  {
   "cell_type": "code",
   "execution_count": 57,
   "id": "2e219b8c-dbc7-4382-8e6a-d4866306c836",
   "metadata": {},
   "outputs": [
    {
     "data": {
      "text/plain": [
       "500"
      ]
     },
     "execution_count": 57,
     "metadata": {},
     "output_type": "execute_result"
    }
   ],
   "source": [
    "acc.get_balance()"
   ]
  },
  {
   "cell_type": "code",
   "execution_count": 43,
   "id": "00b41d1c-bbba-4296-8d66-9de4b4240f61",
   "metadata": {},
   "outputs": [],
   "source": [
    "# 50.  Develop a Person class with private attributes name and email, and methods to set and get the email.\n",
    "\n",
    "class Person:\n",
    "    def __init__(self, name, email):\n",
    "        self.__name = name        \n",
    "        self.__email = email      \n",
    "\n",
    "    def set_email(self, email):\n",
    "        self.__email = email\n",
    "\n",
    "    def get_email(self):\n",
    "        return self.__email\n",
    "\n",
    "    def get_name(self):\n",
    "        return self.__name\n",
    "\n",
    "person = Person(\"Viraj Jaiswal\", \"virajjaiswal8@gmail.com\")"
   ]
  },
  {
   "cell_type": "code",
   "execution_count": 44,
   "id": "d159a0ac-f637-4498-8d5f-563514b48d41",
   "metadata": {},
   "outputs": [
    {
     "data": {
      "text/plain": [
       "'virajjaiswal8@gmail.com'"
      ]
     },
     "execution_count": 44,
     "metadata": {},
     "output_type": "execute_result"
    }
   ],
   "source": [
    "person.get_email()"
   ]
  },
  {
   "cell_type": "code",
   "execution_count": 45,
   "id": "78569471-c0cd-4924-a074-8d682a94f4e1",
   "metadata": {},
   "outputs": [
    {
     "data": {
      "text/plain": [
       "'newviraj@gmail.com'"
      ]
     },
     "execution_count": 45,
     "metadata": {},
     "output_type": "execute_result"
    }
   ],
   "source": [
    "person.set_email(\"newviraj@gmail.com\")\n",
    "person.get_email()"
   ]
  },
  {
   "cell_type": "code",
   "execution_count": 46,
   "id": "4ceb888f-29c6-44fb-b1a8-83463515a50b",
   "metadata": {},
   "outputs": [
    {
     "data": {
      "text/plain": [
       "'Viraj Jaiswal'"
      ]
     },
     "execution_count": 46,
     "metadata": {},
     "output_type": "execute_result"
    }
   ],
   "source": [
    "person.get_name()"
   ]
  },
  {
   "cell_type": "code",
   "execution_count": null,
   "id": "ac0a665b-edaa-4aaf-907f-aa9baca3dcf5",
   "metadata": {},
   "outputs": [],
   "source": [
    "# 51.  Why is encapsulation considered a pillar of object-oriented programming (OOP)?\n",
    "\n",
    "'''\n",
    "Ans ->\n",
    "\"Encapsulation\" is often considered the most crucial pillar of OOP, as it ensures data security and code organization.\n",
    "''' "
   ]
  },
  {
   "cell_type": "code",
   "execution_count": 1,
   "id": "c4f0e1ea-e81b-4f71-a5ca-7ff21623a22c",
   "metadata": {},
   "outputs": [
    {
     "name": "stdout",
     "output_type": "stream",
     "text": [
      "The lines being printed before the func.\n",
      "Hello\n",
      "This libes being printed after the func.\n"
     ]
    }
   ],
   "source": [
    "# 52. Create a decorator in Python that adds functionality to a simple function by printing a message before and after the function execution.\n",
    "\n",
    "def my_decorator(func):\n",
    "    def wrapper():\n",
    "        print(\"The lines being printed before the func.\")\n",
    "        func()\n",
    "        print(\"This libes being printed after the func.\")\n",
    "    return wrapper\n",
    "\n",
    "@my_decorator\n",
    "def say_hello():\n",
    "    print(\"Hello\") # when say_hello() is called, it is actually calling wrapper() which in turn calls say_hello\n",
    "    \n",
    "say_hello()"
   ]
  },
  {
   "cell_type": "code",
   "execution_count": 2,
   "id": "7dab5b87-4c3b-4920-8f22-80211956ba01",
   "metadata": {},
   "outputs": [
    {
     "name": "stdout",
     "output_type": "stream",
     "text": [
      "my_function - This is a custom message\n",
      "Function is running\n"
     ]
    }
   ],
   "source": [
    "# 53.  Modify the decorator to accept arguments and print the function name along with the message.\n",
    "\n",
    "def custom_decorator(message):\n",
    "    def decorator(func):\n",
    "        def wrapper(*args, **kwargs):\n",
    "            print(f\"{func.__name__} - {message}\")\n",
    "            return func(*args, **kwargs)\n",
    "        return wrapper\n",
    "    return decorator\n",
    "\n",
    "@custom_decorator(\"This is a custom message\")\n",
    "def my_function():\n",
    "    print(\"Function is running\")\n",
    "\n",
    "my_function()\n"
   ]
  },
  {
   "cell_type": "code",
   "execution_count": 103,
   "id": "2227a20a-b6e8-41c6-9c5f-b4054613c000",
   "metadata": {},
   "outputs": [
    {
     "name": "stdout",
     "output_type": "stream",
     "text": [
      "Decorator One: Before the function call\n",
      "Decorator Two: Before the function call\n",
      "Hello, Viraj!\n",
      "Decorator Two: After the function call\n",
      "Decorator One: After the function call\n"
     ]
    }
   ],
   "source": [
    "# 54.  Create two decorators, and apply them to a single function. Ensure that they execute in the order they are applied.\n",
    "\n",
    "import functools\n",
    "\n",
    "def decorator_one(func):\n",
    "    @functools.wraps(func)\n",
    "    def wrapper(*args, **kwargs):\n",
    "        print(\"Decorator One: Before the function call\")\n",
    "        result = func(*args, **kwargs)\n",
    "        print(\"Decorator One: After the function call\")\n",
    "        return result\n",
    "    return wrapper\n",
    "\n",
    "def decorator_two(func):\n",
    "    @functools.wraps(func)\n",
    "    def wrapper(*args, **kwargs):\n",
    "        print(\"Decorator Two: Before the function call\")\n",
    "        result = func(*args, **kwargs)\n",
    "        print(\"Decorator Two: After the function call\")\n",
    "        return result\n",
    "    return wrapper\n",
    "\n",
    "@decorator_one\n",
    "@decorator_two\n",
    "def greet(name):\n",
    "    print(f\"Hello, {name}!\")\n",
    "    \n",
    "# Test   \n",
    "greet(\"Viraj\")"
   ]
  },
  {
   "cell_type": "code",
   "execution_count": 101,
   "id": "dca57a51-7d3e-4d53-b873-db10fcbe178e",
   "metadata": {},
   "outputs": [
    {
     "name": "stdout",
     "output_type": "stream",
     "text": [
      "Calling function 'greet' with arguments: ('Alice',) {}\n",
      "Hello, Alice!\n",
      "Calling function 'greet' with arguments: ('Bob',) {'greeting': 'Hi'}\n",
      "Hi, Bob!\n"
     ]
    }
   ],
   "source": [
    "# 55.  Modify the decorator to accept and pass function arguments to the wrapped function.\n",
    "\n",
    "'''To modify the decorator so that it accepts and passes arguments to the wrapped function, you can use *args and **kwargs in the wrapper function.'''\n",
    "\n",
    "import functools\n",
    "\n",
    "def my_decorator(func):\n",
    "    @functools.wraps(func)\n",
    "    def wrapper(*args, **kwargs):\n",
    "        print(f\"Calling function '{func.__name__}' with arguments: {args} {kwargs}\")\n",
    "        return func(*args, **kwargs)\n",
    "    return wrapper\n",
    "\n",
    "# Usage\n",
    "@my_decorator\n",
    "def greet(name, greeting=\"Hello\"):\n",
    "    return f\"{greeting}, {name}!\"\n",
    "\n",
    "# Test\n",
    "print(greet(\"Alice\"))\n",
    "print(greet(\"Bob\", greeting=\"Hi\"))\n"
   ]
  },
  {
   "cell_type": "code",
   "execution_count": 99,
   "id": "e5015958-04cd-48eb-86e9-918739600530",
   "metadata": {},
   "outputs": [
    {
     "name": "stdout",
     "output_type": "stream",
     "text": [
      "Calling function 'greet'\n",
      "Hello, Alice!\n",
      "greet\n",
      "None\n"
     ]
    }
   ],
   "source": [
    "# 56.  Create a decorator that preserves the metadata of the original function.\n",
    "\n",
    "import functools\n",
    "\n",
    "def my_decorator(func):\n",
    "    @functools.wraps(func)\n",
    "    def wrapper(*args, **kwargs):\n",
    "        print(f\"Calling function '{func.__name__}'\")\n",
    "        return func(*args, **kwargs)\n",
    "    return wrapper\n",
    "\n",
    "# Usage\n",
    "@my_decorator\n",
    "def greet(name):\n",
    "    return f\"Hello, {name}!\"\n",
    "\n",
    "print(greet(\"Alice\"))\n",
    "print(greet.__name__)\n",
    "print(greet.__doc__)"
   ]
  },
  {
   "cell_type": "code",
   "execution_count": 97,
   "id": "79fbc16b-9e7b-4bda-b60a-ca4f56f8171f",
   "metadata": {},
   "outputs": [
    {
     "name": "stdin",
     "output_type": "stream",
     "text": [
      "Enter a number 15\n",
      "Enter a number 42\n"
     ]
    },
    {
     "name": "stdout",
     "output_type": "stream",
     "text": [
      "The sum of: 15 and 42 is 57\n"
     ]
    }
   ],
   "source": [
    "# 57.  Create a Python class `Calculator` with a static method `add` that takes in two numbers and returns their sum.\n",
    "\n",
    "class Calculator:\n",
    "    @staticmethod\n",
    "    def add(a, b):\n",
    "        return a+b\n",
    "    \n",
    "a = int(input(\"Enter a number\"))\n",
    "b = int(input(\"Enter a number\"))\n",
    "print(f\"The sum of: {a} and {b} is {Calculator.add(a, b)}\")"
   ]
  },
  {
   "cell_type": "code",
   "execution_count": 87,
   "id": "f7b3202f-3107-431b-a085-04c985ca7650",
   "metadata": {},
   "outputs": [
    {
     "name": "stdout",
     "output_type": "stream",
     "text": [
      "Total number of employees: 3\n"
     ]
    }
   ],
   "source": [
    "# 58.  Create a Python class `Employee` with a class `method get_employee_count` that returns the total number of employees created. \n",
    "\n",
    "class Employee:\n",
    "    employee_count = 0\n",
    "    \n",
    "    def __init__(self, name):\n",
    "        self.name = name\n",
    "        Employee.employee_count += 1\n",
    "        \n",
    "    @classmethod\n",
    "    def get_employee_count(cls):\n",
    "        return cls.employee_count\n",
    "    \n",
    "emp1 = Employee(\"Rajesh\")\n",
    "emp1 = Employee(\"Sunil\")\n",
    "emp1 = Employee(\"Ramesh\")\n",
    "\n",
    "print(f\"Total number of employees: {Employee.get_employee_count()}\")"
   ]
  },
  {
   "cell_type": "code",
   "execution_count": 85,
   "id": "44441c74-4d5e-477a-82a7-0cee91b2770d",
   "metadata": {},
   "outputs": [
    {
     "name": "stdin",
     "output_type": "stream",
     "text": [
      "Enter a string:  viraj\n"
     ]
    },
    {
     "name": "stdout",
     "output_type": "stream",
     "text": [
      "The reverse of 'viraj' is 'jariv'\n"
     ]
    }
   ],
   "source": [
    "# 59.  Create a Python class `StringFormatter` with a static method `reverse_string` that takes a string as input and returns its reverse.\n",
    "\n",
    "class StringFormatter:\n",
    "    @staticmethod\n",
    "    def reverse_string(s):\n",
    "        return s[::-1]\n",
    "    \n",
    "input_string = input(\"Enter a string: \")\n",
    "reversed_string = StringFormatter.reverse_string(input_string)\n",
    "print(f\"The reverse of '{input_string}' is '{reversed_string}'\")"
   ]
  },
  {
   "cell_type": "code",
   "execution_count": 83,
   "id": "488a5f7f-8e70-4228-a2e2-456c5902d54f",
   "metadata": {},
   "outputs": [
    {
     "name": "stdout",
     "output_type": "stream",
     "text": [
      "The radius of circle is 7 and area is 153.86\n"
     ]
    }
   ],
   "source": [
    "# 60.  Create a Python class `Circle` with a class method `calculate_area` that calculates the area of a circle given its radius.\n",
    "\n",
    "class Circle:\n",
    "    @staticmethod\n",
    "    def calculate_area(radius):\n",
    "        return 3.14 * radius ** 2 \n",
    "\n",
    "circle_radius = 7\n",
    "area = Circle.calculate_area(circle_radius)\n",
    "print(f\"The radius of circle is {circle_radius} and area is {area}\")"
   ]
  },
  {
   "cell_type": "code",
   "execution_count": 79,
   "id": "57ed3da3-33c4-4d69-843d-65797546df4d",
   "metadata": {},
   "outputs": [
    {
     "name": "stdout",
     "output_type": "stream",
     "text": [
      "25C is equa to 77.0F\n"
     ]
    }
   ],
   "source": [
    "# 61.  Create a Python class `TemperatureConverter` with a static method `celsius_to_fahrenheit` that converts Celsius to Fahrenheit.\n",
    "\n",
    "class TemperatureConverter:\n",
    "    @staticmethod\n",
    "    def celsius_to_fahrenheit(celsius):\n",
    "        return (celsius * 9/5) + 32\n",
    "    \n",
    "temp_in_celsius = 25\n",
    "temp_in_fahrenheit = TemperatureConverter.celsius_to_fahrenheit(temp_in_celsius)\n",
    "print(f\"{temp_in_celsius}C is equa to {temp_in_fahrenheit}F\")\n"
   ]
  },
  {
   "cell_type": "code",
   "execution_count": 73,
   "id": "f172c681-6dac-4e89-87f0-097de6f994a3",
   "metadata": {},
   "outputs": [
    {
     "name": "stdout",
     "output_type": "stream",
     "text": [
      "This methods overrides the print statement of object methods\n"
     ]
    }
   ],
   "source": [
    "# 62.  What is the purpose of the __str__() method in Python classes? Provide an example.\n",
    "\n",
    "#  __str__():\n",
    "\n",
    "'''The __str__() method returns a human-readable, or informal, string representation of an object.'''\n",
    "\n",
    "# Example --\n",
    "\n",
    "class Student:\n",
    "    def __init__(self):\n",
    "        self.phone = 9999999\n",
    "        \n",
    "    def __str__(self):\n",
    "        return \"This methods overrides the print statement of object methods\"\n",
    "    \n",
    "print(Student())"
   ]
  },
  {
   "cell_type": "code",
   "execution_count": 71,
   "id": "1474054f-691a-4ab5-8e7e-5b888821e9d0",
   "metadata": {},
   "outputs": [
    {
     "name": "stdout",
     "output_type": "stream",
     "text": [
      "5\n"
     ]
    }
   ],
   "source": [
    "# 63. How does the __len__() method work in Python? Provide an example. \n",
    "\n",
    "# __lin__():\n",
    "\n",
    "'''One of the most commonly used special methods in Python is the `__len__` method. This method allows us to determine the length of an object. '''\n",
    "\n",
    "# Example --\n",
    "\n",
    "class CustomCollection:\n",
    "    def __init__(self, items):\n",
    "        self._items = items\n",
    "        \n",
    "    def __len__(self):\n",
    "        return len(self._items)\n",
    "    \n",
    "my_collection = CustomCollection([1, 2, 3, 4, 5])\n",
    "print(len(my_collection))"
   ]
  },
  {
   "cell_type": "code",
   "execution_count": 67,
   "id": "425c0779-79c2-4eda-8b30-4289b3652341",
   "metadata": {},
   "outputs": [
    {
     "data": {
      "text/plain": [
       "'PwSkills'"
      ]
     },
     "execution_count": 67,
     "metadata": {},
     "output_type": "execute_result"
    }
   ],
   "source": [
    "# 64.  Explain the usage of the __add__() method in Python classes. Provide an example.\n",
    "\n",
    "# __add__() :\n",
    "\n",
    "'''The __add__ method is called when the addition operator ( + ) is used with instances of your custom class.'''\n",
    "\n",
    "# Example --\n",
    "\n",
    "a = \"Pw\"\n",
    "b = \"Skills\"\n",
    "a.__add__(b)"
   ]
  },
  {
   "cell_type": "code",
   "execution_count": 66,
   "id": "c3d04477-f3c7-41aa-97bc-78027f39cc42",
   "metadata": {},
   "outputs": [
    {
     "name": "stdout",
     "output_type": "stream",
     "text": [
      "10\n",
      "30\n",
      "50\n"
     ]
    }
   ],
   "source": [
    "# 65.  What is the purpose of the __getitem__() method in Python? Provide an example.\n",
    "\n",
    "# purpose of the __getitem__() :\n",
    "\n",
    "'''__getitem__ method is used to get an item from the invoked instances' attribute. __getitem__ is commonly used with containers like list,\n",
    "tuple, etc. __setitem__ method is used to set the item into a specific index of the invoked instances' attribute.'''\n",
    "\n",
    "# Example --\n",
    "\n",
    "class CustomList:\n",
    "    def __init__(self, data):\n",
    "        self.__data = data\n",
    "        \n",
    "    def __getitem__(self, index):\n",
    "        return self.__data[index]\n",
    "    \n",
    "my_list = CustomList([10, 20, 30, 40, 50])\n",
    "\n",
    "print(my_list[0])\n",
    "print(my_list[2])\n",
    "print(my_list[-1])"
   ]
  },
  {
   "cell_type": "code",
   "execution_count": 65,
   "id": "5869732c-584c-47b1-af14-8337f41faa28",
   "metadata": {},
   "outputs": [
    {
     "name": "stdout",
     "output_type": "stream",
     "text": [
      "1\n",
      "2\n",
      "3\n",
      "4\n"
     ]
    }
   ],
   "source": [
    "# 66.  Explain the usage of the __iter__() and __next__() methods in Python. Provide an example using iterators.\n",
    "\n",
    "# .__iter__()\t:\n",
    "'''Called to initialize the iterator. It must return an iterator object.'''\n",
    "    \n",
    "# .__next__()\t:\n",
    "'''Called to iterate over the iterator. It must return the next value in the data stream.'''\n",
    "\n",
    "# Example --\n",
    "\n",
    "class MyRange:\n",
    "    def __init__(self, start, end):\n",
    "        self.current = start\n",
    "        self.end = end\n",
    "\n",
    "    def __iter__(self):\n",
    "        return self\n",
    "\n",
    "    def __next__(self):\n",
    "        if self.current >= self.end:\n",
    "            raise StopIteration\n",
    "        current = self.current\n",
    "        self.current += 1\n",
    "        return current\n",
    "\n",
    "# Usage\n",
    "my_range = MyRange(1, 5)\n",
    "for number in my_range:\n",
    "    print(number)\n"
   ]
  },
  {
   "cell_type": "code",
   "execution_count": 60,
   "id": "ea5898a2-723d-4d27-93a5-0539f4d3b007",
   "metadata": {},
   "outputs": [
    {
     "data": {
      "text/plain": [
       "5000"
      ]
     },
     "execution_count": 60,
     "metadata": {},
     "output_type": "execute_result"
    }
   ],
   "source": [
    "# 67. What is the purpose of a getter method in Python? Provide an example demonstrating the use of a getter method using property decorators.\n",
    "\n",
    "# getter method:\n",
    "\n",
    "'''Getters are OOPs functions in python. Getters are functions used to retrieve the values of private attributes'''\n",
    "\n",
    "# Example --\n",
    "\n",
    "class Student:\n",
    "    def __init__(self, name, price):\n",
    "        self.__name = name\n",
    "        self.__price = price\n",
    "        \n",
    "    @property #it will make access_price as attribute of the class\n",
    "    def access_price(self):\n",
    "        return self.__price\n",
    "    \n",
    "stud = Student(\"Viraj\", 5000)\n",
    "stud.access_price"
   ]
  },
  {
   "cell_type": "code",
   "execution_count": 39,
   "id": "ce9801d7-4b8b-44fc-a7d4-3b1a1ded7c77",
   "metadata": {},
   "outputs": [
    {
     "data": {
      "text/plain": [
       "3000"
      ]
     },
     "execution_count": 39,
     "metadata": {},
     "output_type": "execute_result"
    }
   ],
   "source": [
    "# 68.  Explain the role of setter methods in Python. Demonstrate how to use a setter method to modify a class attribute using property decorators.\n",
    "\n",
    "# setter method:\n",
    "\n",
    "'''Setter: A method that allows you to set or mutate the value of an attribute in a class.'''\n",
    "\n",
    "# Example --\n",
    "\n",
    "class Student:\n",
    "    def __init__(self, price):\n",
    "        self.__price = price\n",
    "        \n",
    "    @property\n",
    "    def access_price(self):\n",
    "        return self.__price\n",
    "    \n",
    "    @access_price.setter\n",
    "    def price_set(self, price_new):\n",
    "        self.__price = price_new\n",
    "        \n",
    "stud = Student(3000)\n",
    "stud.access_price"
   ]
  },
  {
   "cell_type": "code",
   "execution_count": 58,
   "id": "910deafc-d1bf-41ef-8ed4-368d27de233e",
   "metadata": {},
   "outputs": [
    {
     "data": {
      "text/plain": [
       "1500"
      ]
     },
     "execution_count": 58,
     "metadata": {},
     "output_type": "execute_result"
    }
   ],
   "source": [
    "stud.price_set = 1500\n",
    "stud.access_price"
   ]
  },
  {
   "cell_type": "code",
   "execution_count": 40,
   "id": "b24f8e0f-74f5-456c-9c74-28aa5071131f",
   "metadata": {},
   "outputs": [
    {
     "data": {
      "text/plain": [
       "78.5"
      ]
     },
     "execution_count": 40,
     "metadata": {},
     "output_type": "execute_result"
    }
   ],
   "source": [
    "# 69. What is the purpose of the @property decorator in Python? Provide an example illustrating its usage.\n",
    "\n",
    "# @property decorator:\n",
    "\n",
    "'''The decorator is a built-in Python decorator that allows you to turn class methods into properties in a way that's both elegant and user-friendly.'''\n",
    "\n",
    "# Exampel --\n",
    "\n",
    "class Circle:\n",
    "    def __init__(self, radius):\n",
    "        self.radius = radius\n",
    "        \n",
    "    @property\n",
    "    def area(self):\n",
    "        radius = self.radius\n",
    "        return 3.14 * radius ** 2 \n",
    "        \n",
    "c = Circle(5)\n",
    "c.area"
   ]
  },
  {
   "cell_type": "code",
   "execution_count": 33,
   "id": "5b9c70ec-ef46-4f03-a18f-49cf3d571b25",
   "metadata": {},
   "outputs": [],
   "source": [
    "# 70.  Explain the use of the @deleter decorator in Python property decorators. Provide a code example demonstrating its application.\n",
    "\n",
    "# @deleter decorator:\n",
    "'''The @deleter decorator in Python is used in conjunction with property decorators to define a method that will be called when you attempt to delete an attribute of a class.\n",
    "This is part of Python's property feature, which allows you to manage attribute access more precisely, typically by defining getter, setter, and deleter methods.'''\n",
    "\n",
    "# Example--\n",
    "\n",
    "class Circle:\n",
    "    def __init__(self, radius):\n",
    "        self.__radius = radius\n",
    "    @property\n",
    "    def radius(self):\n",
    "        return self.__radius\n",
    "    @radius.setter\n",
    "    def radius(self, value):\n",
    "        if value <= 0:\n",
    "            raise ValueError(\"Radius is not pos\")\n",
    "        self.__radius = value\n",
    "    @radius.deleter\n",
    "    def radius(self):\n",
    "        del self.__radius\n",
    "        \n",
    "    def area(self):\n",
    "        return 3.14 * self.__radius * self.__radius\n",
    "    "
   ]
  },
  {
   "cell_type": "code",
   "execution_count": 34,
   "id": "2933d684-7c09-46ad-8565-b23b9087ac3d",
   "metadata": {},
   "outputs": [
    {
     "data": {
      "text/plain": [
       "7"
      ]
     },
     "execution_count": 34,
     "metadata": {},
     "output_type": "execute_result"
    }
   ],
   "source": [
    "c = Circle(7)\n",
    "c.radius"
   ]
  },
  {
   "cell_type": "code",
   "execution_count": 41,
   "id": "e7cfc387-c531-4c5c-99d0-5b169fac63bc",
   "metadata": {},
   "outputs": [
    {
     "ename": "AttributeError",
     "evalue": "'Circle' object has no attribute 'radius'",
     "output_type": "error",
     "traceback": [
      "\u001b[0;31m---------------------------------------------------------------------------\u001b[0m",
      "\u001b[0;31mAttributeError\u001b[0m                            Traceback (most recent call last)",
      "Cell \u001b[0;32mIn[41], line 2\u001b[0m\n\u001b[1;32m      1\u001b[0m \u001b[38;5;28;01mdel\u001b[39;00m c\u001b[38;5;241m.\u001b[39mradius\n\u001b[0;32m----> 2\u001b[0m \u001b[43mc\u001b[49m\u001b[38;5;241;43m.\u001b[39;49m\u001b[43mradius\u001b[49m \u001b[38;5;66;03m#because radius is deleted by @deleter\u001b[39;00m\n",
      "\u001b[0;31mAttributeError\u001b[0m: 'Circle' object has no attribute 'radius'"
     ]
    }
   ],
   "source": [
    "del c.radius\n",
    "c.radius #because radius is deleted by @deleter"
   ]
  },
  {
   "cell_type": "code",
   "execution_count": 37,
   "id": "08fb4c59-bd5e-4113-b432-22a7b796b080",
   "metadata": {},
   "outputs": [
    {
     "name": "stdout",
     "output_type": "stream",
     "text": [
      "1000\n",
      "1500\n",
      "2000\n",
      "1700\n",
      "Deleting balance\n"
     ]
    }
   ],
   "source": [
    "# 71.  How does encapsulation relate to property decorators in Python? Provide an example showcasing encapsulation using property decorators.\n",
    "\n",
    "# encapsulation relate to property decorators:\n",
    "\n",
    "'''The basis of Python's approach to object-oriented programming is the principle of encapsulation—the idea that data\n",
    "within an object should be accessible only through well-defined interfaces.'''\n",
    "\n",
    "# Example -- \n",
    "\n",
    "class BankAccount:\n",
    "    def __init__(self, account_number, balance):\n",
    "        self._account_number = account_number \n",
    "        self._balance = balance \n",
    "    \n",
    "    @property\n",
    "    def balance(self):\n",
    "        return self._balance\n",
    "    \n",
    "    @balance.setter\n",
    "    def balance(self, amount):\n",
    "        if amount < 0:\n",
    "            raise ValueError(\"Balance cannot be negative\")\n",
    "        self._balance = amount\n",
    "    \n",
    "    @balance.deleter\n",
    "    def balance(self):\n",
    "        print(\"Deleting balance\")\n",
    "        del self._balance\n",
    "    \n",
    "    def deposit(self, amount):\n",
    "        if amount > 0:\n",
    "            self._balance += amount\n",
    "        else:\n",
    "            raise ValueError(\"Deposit amount must be positive\")\n",
    "    \n",
    "    def withdraw(self, amount):\n",
    "        if 0 < amount <= self._balance:\n",
    "            self._balance -= amount\n",
    "        else:\n",
    "            raise ValueError(\"Invalid withdrawal amount\")\n",
    "\n",
    "account = BankAccount(\"12345\", 1000)\n",
    "\n",
    "print(account.balance)  # Output: 1000\n",
    "\n",
    "account.balance = 1500\n",
    "print(account.balance)  # Output: 1500\n",
    "\n",
    "account.deposit(500)\n",
    "print(account.balance)  # Output: 2000\n",
    "\n",
    "account.withdraw(300)\n",
    "print(account.balance)  # Output: 1700\n",
    "\n",
    "del account.balance"
   ]
  },
  {
   "cell_type": "code",
   "execution_count": null,
   "id": "b3c4118f-c2bc-48e9-90a3-3946f8516270",
   "metadata": {},
   "outputs": [],
   "source": []
  },
  {
   "cell_type": "code",
   "execution_count": null,
   "id": "32da3eea-1b41-44a3-9a59-c56e4cce4c70",
   "metadata": {},
   "outputs": [],
   "source": []
  }
 ],
 "metadata": {
  "kernelspec": {
   "display_name": "Python 3 (ipykernel)",
   "language": "python",
   "name": "python3"
  },
  "language_info": {
   "codemirror_mode": {
    "name": "ipython",
    "version": 3
   },
   "file_extension": ".py",
   "mimetype": "text/x-python",
   "name": "python",
   "nbconvert_exporter": "python",
   "pygments_lexer": "ipython3",
   "version": "3.10.8"
  }
 },
 "nbformat": 4,
 "nbformat_minor": 5
}
